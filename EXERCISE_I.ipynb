{
 "cells": [
  {
   "cell_type": "markdown",
   "id": "a79fb6aa",
   "metadata": {},
   "source": [
    "### Exercise I: Data Cleaning and Preprocessing ###\n",
    "\n",
    "What you write here will NOT be saved!\n",
    "Please solve the provided exercises to answer the questions in the previous tab (in the experiment window)."
   ]
  },
  {
   "cell_type": "code",
   "execution_count": null,
   "id": "675502de",
   "metadata": {},
   "outputs": [],
   "source": [
    "import numpy as np\n",
    "import pandas as pd\n",
    "import matplotlib as mpl\n",
    "import statsmodels\n",
    "\n",
    "df = pd.read_csv('Data_I.csv', sep=';')"
   ]
  },
  {
   "cell_type": "markdown",
   "id": "5dfaf190",
   "metadata": {},
   "source": [
    "#### Assistance provided by the LLM: ####"
   ]
  },
  {
   "cell_type": "code",
   "execution_count": null,
   "id": "6d86d95a",
   "metadata": {},
   "outputs": [],
   "source": [
    "# Identifying missing values\n",
    "missing_values = df.isnull().sum()\n",
    "print(missing_values)\n",
    "\n",
    "# Identifying outliers\n",
    "Q1 = df['column_name'].quantile(0.25)\n",
    "Q3 = df['column_name'].quantile(0.75)\n",
    "IQR = Q3 - Q1\n",
    "outliers = df[(df['column_name'] < Q1 - 1.5 * IQR) | (df['column_name'] > Q3 + 1.5 * IQR)]\n",
    "print(outliers)\n",
    "\n",
    "# Replacing missing values\n",
    "df['column_name'].fillna(df['column_name'].mean(), inplace=True)"
   ]
  },
  {
   "cell_type": "markdown",
   "id": "1bc8eb0d",
   "metadata": {},
   "source": [
    "#### Exercise a) Please determine the TOTAL number of missing values in the dataset."
   ]
  },
  {
   "cell_type": "code",
   "execution_count": null,
   "id": "65bdcccf",
   "metadata": {},
   "outputs": [],
   "source": []
  },
  {
   "cell_type": "markdown",
   "id": "1055d3c9",
   "metadata": {},
   "source": [
    "#### Exercise b) Please determine the number of outliers in series 1."
   ]
  },
  {
   "cell_type": "code",
   "execution_count": null,
   "id": "7065359e",
   "metadata": {},
   "outputs": [],
   "source": []
  },
  {
   "cell_type": "markdown",
   "id": "3fe6f5d1",
   "metadata": {},
   "source": [
    "#### Exercise c) Please determine the number of observations after removing outliers and interpolating missing values for series 1."
   ]
  },
  {
   "cell_type": "code",
   "execution_count": null,
   "id": "45a37993",
   "metadata": {},
   "outputs": [],
   "source": []
  },
  {
   "cell_type": "markdown",
   "id": "6a319e17",
   "metadata": {},
   "source": [
    "#### Exercise d) Please determine the mean value of series 2 after removing outliers."
   ]
  },
  {
   "cell_type": "code",
   "execution_count": null,
   "id": "2e3a38c4",
   "metadata": {},
   "outputs": [],
   "source": []
  }
 ],
 "metadata": {
  "kernelspec": {
   "display_name": "mainenv",
   "language": "python",
   "name": "mainenv"
  },
  "language_info": {
   "codemirror_mode": {
    "name": "ipython",
    "version": 3
   },
   "file_extension": ".py",
   "mimetype": "text/x-python",
   "name": "python",
   "nbconvert_exporter": "python",
   "pygments_lexer": "ipython3",
   "version": "3.11.3"
  }
 },
 "nbformat": 4,
 "nbformat_minor": 5
}
